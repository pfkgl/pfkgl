{
 "cells": [
  {
   "cell_type": "code",
   "execution_count": 1,
   "metadata": {},
   "outputs": [],
   "source": [
    "# This cell imports all necessary libraries for this code\n",
    "import xarray as xr # library for loading netcdf files\n",
    "import matplotlib.pyplot as plt # library for plotting \n",
    "import numpy as np # libary for working with arrays\n",
    "import cartopy.crs as ccrs # library for plotting on maps\n",
    "import matplotlib.ticker as mticker # library for putting axes labels"
   ]
  },
  {
   "cell_type": "code",
   "execution_count": 2,
   "metadata": {},
   "outputs": [
    {
     "ename": "ValueError",
     "evalue": "found the following matches with the input file in xarray's IO backends: ['netcdf4', 'h5netcdf']. But their dependencies may not be installed, see:\nhttp://xarray.pydata.org/en/stable/user-guide/io.html \nhttp://xarray.pydata.org/en/stable/getting-started-guide/installing.html",
     "output_type": "error",
     "traceback": [
      "Traceback \u001b[1;36m(most recent call last)\u001b[0m:\n",
      "  File \u001b[0;32m\"<ipython-input-2-bf0592865a9a>\"\u001b[0m, line \u001b[0;32m10\u001b[0m, in \u001b[0;35m<module>\u001b[0m\n    datafile = xr.open_dataset(filename)\n",
      "  File \u001b[0;32m\"C:\\Users\\CPBSLV\\anaconda3\\lib\\site-packages\\xarray\\backends\\api.py\"\u001b[0m, line \u001b[0;32m481\u001b[0m, in \u001b[0;35mopen_dataset\u001b[0m\n    engine = plugins.guess_engine(filename_or_obj)\n",
      "\u001b[1;36m  File \u001b[1;32m\"C:\\Users\\CPBSLV\\anaconda3\\lib\\site-packages\\xarray\\backends\\plugins.py\"\u001b[1;36m, line \u001b[1;32m148\u001b[1;36m, in \u001b[1;35mguess_engine\u001b[1;36m\u001b[0m\n\u001b[1;33m    raise ValueError(error_msg)\u001b[0m\n",
      "\u001b[1;31mValueError\u001b[0m\u001b[1;31m:\u001b[0m found the following matches with the input file in xarray's IO backends: ['netcdf4', 'h5netcdf']. But their dependencies may not be installed, see:\nhttp://xarray.pydata.org/en/stable/user-guide/io.html \nhttp://xarray.pydata.org/en/stable/getting-started-guide/installing.html\n"
     ]
    }
   ],
   "source": [
    "# This cell defines which file to read\n",
    "\n",
    "# data that you want to load \n",
    "filename = 'era5.22N-32N.96W-83W.2005082900.nc'\n",
    "# The first thing you want to do is to check what variables are stored in what formats. There are multiple ways to do so.\n",
    "# method 1) go to terminal and type \"ncdump -h filename\" where the filename is the actual name of the file that you want to check.\n",
    "# This will output information about store variables and attributes\n",
    "# method 2) Check the file here using \"xr.open_dataset(filename)\".\n",
    "# When you run this cell, the line below will output information about the data file\n",
    "datafile = xr.open_dataset(filename)\n",
    "datafile"
   ]
  },
  {
   "cell_type": "code",
   "execution_count": null,
   "metadata": {},
   "outputs": [],
   "source": [
    "# This cell loads dimensions of the data\n",
    "lat = datafile.lat.data # latitude (degress north)\n",
    "lon = datafile.lon.data # longitude (degrees east)\n",
    "lev = datafile.lev.data # pressure level (hPa)\n",
    "time = datafile.time.data # time\n",
    "print(time)"
   ]
  },
  {
   "cell_type": "code",
   "execution_count": null,
   "metadata": {},
   "outputs": [],
   "source": [
    "# This cell will load variables of the data\n",
    "\n",
    "# An example of loading one isobaric level (e.g., 850 hPa)\n",
    "p0 = 850\n",
    "u=datafile.u.sel(lev=p0).data[0,:,:] # zonal wind (m/s) with dimension lat x lon\n",
    "v=datafile.v.sel(lev=p0).data[0,:,:] # meridional wind (m/s) with dimension lat x lon\n",
    "g=9.8*datafile.g.sel(lev=p0).data[0,:,:] # geopotential (m^2 s^-2 since multiplied by gravity)\n",
    "# for all these variables, I am only loading the first time index\n",
    "\n",
    "# An example of loading surface variables (these variables do not have vertical dimension)\n",
    "usfc = datafile.usfc.data[0,:,:] # 10-m zonal wind (m/s) with dimension lat x lon\n",
    "vsfc = datafile.vsfc.data[0,:,:] # 10-m meridional wind (m/s)\n",
    "mslp = datafile.mslp.data[0,:,:] # sea level pressure (Pa)\n"
   ]
  },
  {
   "cell_type": "code",
   "execution_count": null,
   "metadata": {},
   "outputs": [],
   "source": [
    "# Plot a map with sea level pressure in filled contours and horizontal wind vectors\n",
    "fig = plt.figure(figsize=(15,15)) # create a figure\n",
    "plt.rcParams.update({'font.size':16}) # change the font size\n",
    "\n",
    "projection = ccrs.PlateCarree() # specify axes and projection option (see Cartopy website for the full list of projection types)\n",
    "ax = plt.axes(projection=projection) \n",
    "\n",
    "# plot filled contours\n",
    "longrid,latgrid=np.meshgrid(lon,lat) # create matrices of lat and lon that match the size of the variable you want to plot\n",
    "plot1 = ax.contourf(longrid,latgrid,mslp/100,transform=projection) # contour SLP\n",
    "cbar = fig.colorbar(plot1,shrink=0.5) # add a colorbar\n",
    "cbar.set_label('hPa') # add units label to the colorbar\n",
    "\n",
    "# add vectors\n",
    "vplot_int = 4 # grid interval to plot wind vectors (e.g., 1 for every grid, 2 for every other grid)\n",
    "vscale = 50*np.mean((usfc[:]**2+vsfc[:]**2)**0.5) # scale parameter for the length of vectors\n",
    "plot2 = ax.quiver(longrid[::vplot_int,::vplot_int],latgrid[::vplot_int,::vplot_int],\\\n",
    "                  usfc[::vplot_int,::vplot_int],vsfc[::vplot_int,::vplot_int],\\\n",
    "                  scale=vscale,transform=projection)\n",
    "# add title\n",
    "time_txt=str(time[0]) # converting time variable to a string\n",
    "idx_date = time_txt.find('T') # finding 'T' in the time string (e.g. in 2006-12-14T00:00:00)\n",
    "ax.set_title('Sea Level Pressure and Surface Winds: '+time_txt[0:idx_date]+' '+time_txt[idx_date+1:idx_date+6]) \n",
    "\n",
    "# add grid ticks\n",
    "lontick = np.arange(-160,-135,5) # define longitude ticks\n",
    "lattick = np.arange(35,50,5) # define latitude ticks\n",
    "grl=ax.gridlines(crs=projection,draw_labels=True,color='k',alpha=0.5)\n",
    "grl.top_labels = False\n",
    "grl.right_labels = False\n",
    "grl.xlocator = mticker.FixedLocator(lontick)\n",
    "grl.ylocator = mticker.FixedLocator(lattick)\n",
    "\n",
    "# to add x and y labels, add texts (set_xlabel and set_ylabel do not seem to work when you use Cartopy)\n",
    "ax.text(np.mean(lon),np.min(lat)-1,'Longitude',ha='center',va='top')\n",
    "ax.text(np.min(lon),np.mean(lat),'Latitude',ha='right',va='center',rotation=90)\n",
    "\n",
    "# add streamlines to this figure\n",
    "# You can use Python's 'streamplot' function or code your own"
   ]
  }
 ],
 "metadata": {
  "kernelspec": {
   "display_name": "Python 3 (Spyder)",
   "language": "python3",
   "name": "python3"
  },
  "language_info": {
   "codemirror_mode": {
    "name": "ipython",
    "version": 3
   },
   "file_extension": ".py",
   "mimetype": "text/x-python",
   "name": "python",
   "nbconvert_exporter": "python",
   "pygments_lexer": "ipython3",
   "version": "3.8.3"
  }
 },
 "nbformat": 4,
 "nbformat_minor": 4
}
